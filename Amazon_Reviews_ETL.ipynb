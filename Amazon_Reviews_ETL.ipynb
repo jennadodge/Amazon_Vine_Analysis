{
  "nbformat": 4,
  "nbformat_minor": 0,
  "metadata": {
    "colab": {
      "name": "Amazon_Reviews_ETL.ipynb",
      "provenance": []
    },
    "kernelspec": {
      "name": "python3",
      "display_name": "Python 3"
    },
    "nteract": {
      "version": "0.12.3"
    },
    "language_info": {
      "name": "python"
    }
  },
  "cells": [
    {
      "cell_type": "code",
      "metadata": {
        "id": "V58rxea0HqSa",
        "colab": {
          "base_uri": "https://localhost:8080/"
        },
        "outputId": "ecc0d8d8-174b-43fd-eba5-b085a144949f"
      },
      "source": [
        "import os\n",
        "# Find the latest version of spark 3.0 from http://www.apache.org/dist/spark/ and enter as the spark version\n",
        "# For example:\n",
        "# spark_version = 'spark-3.0.3'\n",
        "spark_version = 'spark-3.0.3'\n",
        "os.environ['SPARK_VERSION']=spark_version\n",
        "\n",
        "# Install Spark and Java\n",
        "!apt-get update\n",
        "!apt-get install openjdk-11-jdk-headless -qq > /dev/null\n",
        "!wget -q http://www.apache.org/dist/spark/$SPARK_VERSION/$SPARK_VERSION-bin-hadoop2.7.tgz\n",
        "!tar xf $SPARK_VERSION-bin-hadoop2.7.tgz\n",
        "!pip install -q findspark\n",
        "\n",
        "# Set Environment Variables\n",
        "import os\n",
        "os.environ[\"JAVA_HOME\"] = \"/usr/lib/jvm/java-11-openjdk-amd64\"\n",
        "os.environ[\"SPARK_HOME\"] = f\"/content/{spark_version}-bin-hadoop2.7\"\n",
        "\n",
        "# Start a SparkSession\n",
        "import findspark\n",
        "findspark.init()"
      ],
      "execution_count": 1,
      "outputs": [
        {
          "output_type": "stream",
          "name": "stdout",
          "text": [
            "\r0% [Working]\r            \rGet:1 https://cloud.r-project.org/bin/linux/ubuntu bionic-cran40/ InRelease [3,626 B]\n",
            "\r0% [Connecting to archive.ubuntu.com] [Waiting for headers] [1 InRelease 0 B/3,\r0% [Connecting to archive.ubuntu.com] [Waiting for headers] [Connecting to ppa.\r                                                                               \rIgn:2 https://developer.download.nvidia.com/compute/cuda/repos/ubuntu1804/x86_64  InRelease\n",
            "\r                                                                               \rIgn:3 https://developer.download.nvidia.com/compute/machine-learning/repos/ubuntu1804/x86_64  InRelease\n",
            "\r0% [Connecting to archive.ubuntu.com] [Waiting for headers] [Connecting to ppa.\r0% [1 InRelease gpgv 3,626 B] [Connecting to archive.ubuntu.com] [Waiting for h\r                                                                               \rHit:4 https://developer.download.nvidia.com/compute/cuda/repos/ubuntu1804/x86_64  Release\n",
            "\r0% [1 InRelease gpgv 3,626 B] [Connecting to archive.ubuntu.com] [Waiting for h\r                                                                               \rHit:5 https://developer.download.nvidia.com/compute/machine-learning/repos/ubuntu1804/x86_64  Release\n",
            "Get:6 http://security.ubuntu.com/ubuntu bionic-security InRelease [88.7 kB]\n",
            "Get:7 http://ppa.launchpad.net/c2d4u.team/c2d4u4.0+/ubuntu bionic InRelease [15.9 kB]\n",
            "Hit:8 http://archive.ubuntu.com/ubuntu bionic InRelease\n",
            "Get:9 http://archive.ubuntu.com/ubuntu bionic-updates InRelease [88.7 kB]\n",
            "Hit:10 http://ppa.launchpad.net/cran/libgit2/ubuntu bionic InRelease\n",
            "Get:12 http://ppa.launchpad.net/deadsnakes/ppa/ubuntu bionic InRelease [15.9 kB]\n",
            "Get:13 http://archive.ubuntu.com/ubuntu bionic-backports InRelease [74.6 kB]\n",
            "Hit:14 http://ppa.launchpad.net/graphics-drivers/ppa/ubuntu bionic InRelease\n",
            "Get:16 http://security.ubuntu.com/ubuntu bionic-security/main amd64 Packages [2,694 kB]\n",
            "Get:17 http://ppa.launchpad.net/c2d4u.team/c2d4u4.0+/ubuntu bionic/main Sources [1,906 kB]\n",
            "Get:18 http://archive.ubuntu.com/ubuntu bionic-updates/main amd64 Packages [3,133 kB]\n",
            "Get:19 http://ppa.launchpad.net/c2d4u.team/c2d4u4.0+/ubuntu bionic/main amd64 Packages [976 kB]\n",
            "Get:20 http://ppa.launchpad.net/deadsnakes/ppa/ubuntu bionic/main amd64 Packages [45.3 kB]\n",
            "Fetched 9,042 kB in 7s (1,289 kB/s)\n",
            "Reading package lists... Done\n"
          ]
        }
      ]
    },
    {
      "cell_type": "code",
      "metadata": {
        "id": "_xKwTpATHqSe",
        "colab": {
          "base_uri": "https://localhost:8080/"
        },
        "outputId": "a4875c39-92ff-468b-fe2f-6a3205918584"
      },
      "source": [
        "# Download the Postgres driver that will allow Spark to interact with Postgres.\n",
        "!wget https://jdbc.postgresql.org/download/postgresql-42.2.16.jar"
      ],
      "execution_count": 2,
      "outputs": [
        {
          "output_type": "stream",
          "name": "stdout",
          "text": [
            "--2022-04-11 17:21:10--  https://jdbc.postgresql.org/download/postgresql-42.2.16.jar\n",
            "Resolving jdbc.postgresql.org (jdbc.postgresql.org)... 72.32.157.228, 2001:4800:3e1:1::228\n",
            "Connecting to jdbc.postgresql.org (jdbc.postgresql.org)|72.32.157.228|:443... connected.\n",
            "HTTP request sent, awaiting response... 200 OK\n",
            "Length: 1002883 (979K) [application/java-archive]\n",
            "Saving to: ‘postgresql-42.2.16.jar’\n",
            "\n",
            "postgresql-42.2.16. 100%[===================>] 979.38K  5.93MB/s    in 0.2s    \n",
            "\n",
            "2022-04-11 17:21:10 (5.93 MB/s) - ‘postgresql-42.2.16.jar’ saved [1002883/1002883]\n",
            "\n"
          ]
        }
      ]
    },
    {
      "cell_type": "code",
      "metadata": {
        "id": "MMqDAjVS0KN9"
      },
      "source": [
        "from pyspark.sql import SparkSession\n",
        "spark = SparkSession.builder.appName(\"M16-Amazon-Challenge\").config(\"spark.driver.extraClassPath\",\"/content/postgresql-42.2.16.jar\").getOrCreate()"
      ],
      "execution_count": 3,
      "outputs": []
    },
    {
      "cell_type": "markdown",
      "metadata": {
        "id": "cyBsySGuY-9V"
      },
      "source": [
        "### Load Amazon Data into Spark DataFrame"
      ]
    },
    {
      "cell_type": "code",
      "metadata": {
        "id": "CtCmBhQJY-9Z",
        "colab": {
          "base_uri": "https://localhost:8080/"
        },
        "outputId": "c4631a30-b075-42ec-c2ae-a4910f69a0c1"
      },
      "source": [
        "from pyspark import SparkFiles\n",
        "url = \"https://s3.amazonaws.com/amazon-reviews-pds/tsv/amazon_reviews_us_Baby_v1_00.tsv.gz\"\n",
        "spark.sparkContext.addFile(url)\n",
        "df = spark.read.option(\"encoding\", \"UTF-8\").csv(SparkFiles.get(\"amazon_reviews_us_Baby_v1_00.tsv.gz\"), sep=\"\\t\", header=True, inferSchema=True)\n",
        "df.show()"
      ],
      "execution_count": 4,
      "outputs": [
        {
          "output_type": "stream",
          "name": "stdout",
          "text": [
            "+-----------+-----------+--------------+----------+--------------+--------------------+----------------+-----------+-------------+-----------+----+-----------------+--------------------+--------------------+-----------+\n",
            "|marketplace|customer_id|     review_id|product_id|product_parent|       product_title|product_category|star_rating|helpful_votes|total_votes|vine|verified_purchase|     review_headline|         review_body|review_date|\n",
            "+-----------+-----------+--------------+----------+--------------+--------------------+----------------+-----------+-------------+-----------+----+-----------------+--------------------+--------------------+-----------+\n",
            "|         US|    9970739| R8EWA1OFT84NX|B00GSP5D94|     329991347|Summer Infant Swa...|            Baby|          5|            0|          0|   N|                Y|Great swaddled bl...|Loved these swadd...| 2015-08-31|\n",
            "|         US|   23538442|R2JWY4YRQD4FOP|B00YYDDZGU|     646108902|Pacifier Clip Gir...|            Baby|          5|            0|          0|   N|                N|Too cute and real...|These are adorabl...| 2015-08-31|\n",
            "|         US|    8273344| RL5ESX231LZ0B|B00BUBNZC8|     642922361|Udder Covers - Br...|            Baby|          5|            0|          0|   N|                Y|          Five Stars|          Great gift| 2015-08-31|\n",
            "|         US|   24557753| RRMS9ZWJ2KD08|B00AWLZFTS|     494272733|Gerber Graduates ...|            Baby|          5|            0|          0|   N|                Y|Cute; wash up nic...|These forks are g...| 2015-08-31|\n",
            "|         US|   46263340|R14I3ZG5E6S7YM|B00KM60D3Q|     305813185|Summer Infant Ult...|            Baby|          5|            0|          0|   N|                Y|            Love it!|I wanted somethin...| 2015-08-31|\n",
            "|         US|   24557753|R13EPSFP5DODN5|B00PQMRZG4|     607341708|Summer Infant Kee...|            Baby|          4|            0|          0|   N|                Y|        Rips easily.|Loved with daught...| 2015-08-31|\n",
            "|         US|   33520065| R6RBP4HTE67SY|B005DL5970|     971881542|Natural HE Powder...|            Baby|          5|            0|          0|   N|                Y|Cloth Diaper Dete...|This is a great d...| 2015-08-31|\n",
            "|         US|   20241560|R15B3EU40RSU2W|B00C6D2WL4|      93827401|Dr. Brown's Bottl...|            Baby|          5|            0|          0|   N|                Y|          Five Stars|                good| 2015-08-31|\n",
            "|         US|    9987983| RP4DD53A4ZJA2|B0083973FK|     958629336|Sposie Booster Pa...|            Baby|          5|            0|          0|   N|                Y|          Five Stars|With these my mil...| 2015-08-31|\n",
            "|         US|   52570308|R2C99DJEO4RZ4K|B00RLYG2S2|     147324304|Abiie Beyond Wood...|            Baby|          5|            3|          4|   N|                Y|So far I love thi...|So far I love thi...| 2015-08-31|\n",
            "|         US|    9287389| REV51EW323H8W|B010UX9T5I|     446691106|Lovinglove Baby G...|            Baby|          5|            0|          0|   N|                Y|          Five Stars|           Love them| 2015-08-31|\n",
            "|         US|   32840762|R2GQ3W03WIUZKE|B00VWBY7SC|     271204734|Bugzi Stroller Ho...|            Baby|          5|            0|          0|   N|                Y|Love these hooks ...|Love these hooks ...| 2015-08-31|\n",
            "|         US|    7797182| RTI1YI7K6GE3D|B006ZBPH24|      67911244|Born Free 5 oz. B...|            Baby|          5|            0|          0|   N|                Y|          Five Stars|           very good| 2015-08-31|\n",
            "|         US|   14788115|R3V9C2C0SPSZU6|B00UGV8BEU|     613360092|Baby Bandana Bibs...|            Baby|          5|            0|          0|   N|                Y|            Perfect!|Love these bibs! ...| 2015-08-31|\n",
            "|         US|   37909065|R1LB42XCSSCLV6|B005BIOOYO|     527977399|Flip Stay-Dry Ins...|            Baby|          5|            0|          0|   N|                Y|best inserts for ...|I love these. The...| 2015-08-31|\n",
            "|         US|   15935520|R113NWCW6STTMC|B0071D1AKI|     634188771|Aqueduck The ORIG...|            Baby|          5|            0|          0|   N|                Y|        Very Helpful|This worked exact...| 2015-08-31|\n",
            "|         US|   16308044| RWRN5XK337N41|B00M2F0OYS|     166133791|Motorola Baby Mon...|            Baby|          1|            0|          0|   N|                N|Very Dissapointed...|I am so disappoin...| 2015-08-31|\n",
            "|         US|    8168178| RF4WL3QEP3PVI|B00QCBD5AS|     294351494|Minnie Mouse Delu...|            Baby|          1|            0|          0|   N|                Y|            One Star|Ordered minnie mo...| 2015-08-31|\n",
            "|         US|   23299101|R2DRL5NRODVQ3Z|B00SN6F9NG|       3470998|Rhoost Nail Clipp...|            Baby|          5|            2|          2|   N|                Y|If fits so comfor...|This is an absolu...| 2015-08-31|\n",
            "|         US|   14261025|R3T9B92MDDHKMM|B00J0YTS1E|     488640919|My Natural Owl Mu...|            Baby|          2|            5|          5|   N|                Y|Used to be great....|They changed the ...| 2015-08-31|\n",
            "+-----------+-----------+--------------+----------+--------------+--------------------+----------------+-----------+-------------+-----------+----+-----------------+--------------------+--------------------+-----------+\n",
            "only showing top 20 rows\n",
            "\n"
          ]
        }
      ]
    },
    {
      "cell_type": "markdown",
      "metadata": {
        "id": "2yUSe55VY-9t"
      },
      "source": [
        "### Create DataFrames to match tables"
      ]
    },
    {
      "cell_type": "code",
      "metadata": {
        "id": "C8REmY1aY-9u",
        "colab": {
          "base_uri": "https://localhost:8080/"
        },
        "outputId": "a569dd1b-161b-4f9c-ceea-fd39dd1113ba"
      },
      "source": [
        "from pyspark.sql.functions import to_date\n",
        "# Read in the Review dataset as a DataFrame\n",
        "df.show(5)\n"
      ],
      "execution_count": 5,
      "outputs": [
        {
          "output_type": "stream",
          "name": "stdout",
          "text": [
            "+-----------+-----------+--------------+----------+--------------+--------------------+----------------+-----------+-------------+-----------+----+-----------------+--------------------+--------------------+-----------+\n",
            "|marketplace|customer_id|     review_id|product_id|product_parent|       product_title|product_category|star_rating|helpful_votes|total_votes|vine|verified_purchase|     review_headline|         review_body|review_date|\n",
            "+-----------+-----------+--------------+----------+--------------+--------------------+----------------+-----------+-------------+-----------+----+-----------------+--------------------+--------------------+-----------+\n",
            "|         US|    9970739| R8EWA1OFT84NX|B00GSP5D94|     329991347|Summer Infant Swa...|            Baby|          5|            0|          0|   N|                Y|Great swaddled bl...|Loved these swadd...| 2015-08-31|\n",
            "|         US|   23538442|R2JWY4YRQD4FOP|B00YYDDZGU|     646108902|Pacifier Clip Gir...|            Baby|          5|            0|          0|   N|                N|Too cute and real...|These are adorabl...| 2015-08-31|\n",
            "|         US|    8273344| RL5ESX231LZ0B|B00BUBNZC8|     642922361|Udder Covers - Br...|            Baby|          5|            0|          0|   N|                Y|          Five Stars|          Great gift| 2015-08-31|\n",
            "|         US|   24557753| RRMS9ZWJ2KD08|B00AWLZFTS|     494272733|Gerber Graduates ...|            Baby|          5|            0|          0|   N|                Y|Cute; wash up nic...|These forks are g...| 2015-08-31|\n",
            "|         US|   46263340|R14I3ZG5E6S7YM|B00KM60D3Q|     305813185|Summer Infant Ult...|            Baby|          5|            0|          0|   N|                Y|            Love it!|I wanted somethin...| 2015-08-31|\n",
            "+-----------+-----------+--------------+----------+--------------+--------------------+----------------+-----------+-------------+-----------+----+-----------------+--------------------+--------------------+-----------+\n",
            "only showing top 5 rows\n",
            "\n"
          ]
        }
      ]
    },
    {
      "cell_type": "code",
      "metadata": {
        "id": "B0TESUDRY-90",
        "colab": {
          "base_uri": "https://localhost:8080/"
        },
        "outputId": "045ba4fe-adbe-440b-b096-9f4d11db8560"
      },
      "source": [
        "# Create the customers_table DataFrame\n",
        "customers_df = df.groupby(\"customer_id\").agg({\"customer_id\":\"count\"}).withColumnRenamed(\"count(customer_id)\", \"customer_count\")\n",
        "customers_df.show(5)"
      ],
      "execution_count": 6,
      "outputs": [
        {
          "output_type": "stream",
          "name": "stdout",
          "text": [
            "+-----------+--------------+\n",
            "|customer_id|customer_count|\n",
            "+-----------+--------------+\n",
            "|   23042837|             2|\n",
            "|   44524872|             1|\n",
            "|   16711087|             1|\n",
            "|   14116630|             3|\n",
            "|   10548283|             1|\n",
            "+-----------+--------------+\n",
            "only showing top 5 rows\n",
            "\n"
          ]
        }
      ]
    },
    {
      "cell_type": "code",
      "metadata": {
        "id": "4FwXA6UvY-96",
        "colab": {
          "base_uri": "https://localhost:8080/"
        },
        "outputId": "d804e89a-d378-470d-b3f1-ed42a27279de"
      },
      "source": [
        "# Create the products_table DataFrame and drop duplicates. \n",
        "products_df = df.select([\"product_id\",\"product_title\"]).drop_duplicates()\n",
        "products_df.show(5)"
      ],
      "execution_count": 8,
      "outputs": [
        {
          "output_type": "stream",
          "name": "stdout",
          "text": [
            "+----------+--------------------+\n",
            "|product_id|       product_title|\n",
            "+----------+--------------------+\n",
            "|B00Y8QMQN6|Best Baby Teether...|\n",
            "|B002WN2BY6|The First Years T...|\n",
            "|B000AV7O4O|Boon Frog Pod Bat...|\n",
            "|B00UFOBDNY|Kinsa Smart Stick...|\n",
            "|B00XF7DZ34|Critter Piller Ki...|\n",
            "+----------+--------------------+\n",
            "only showing top 5 rows\n",
            "\n"
          ]
        }
      ]
    },
    {
      "cell_type": "code",
      "metadata": {
        "id": "MkqyCuNQY-9-",
        "colab": {
          "base_uri": "https://localhost:8080/"
        },
        "outputId": "a1113a76-05f5-4353-c867-43c7a2ed6a8e"
      },
      "source": [
        "# Create the review_id_table DataFrame. \n",
        "# Convert the 'review_date' column to a date datatype with to_date(\"review_date\", 'yyyy-MM-dd').alias(\"review_date\")\n",
        "review_id_df = df.select([\"review_id\", \"customer_id\", \"product_id\",\"product_parent\", to_date(\"review_date\", 'yyyy-MM-dd').alias(\"review_date\")])\n",
        "review_id_df.show(5)"
      ],
      "execution_count": 9,
      "outputs": [
        {
          "output_type": "stream",
          "name": "stdout",
          "text": [
            "+--------------+-----------+----------+--------------+-----------+\n",
            "|     review_id|customer_id|product_id|product_parent|review_date|\n",
            "+--------------+-----------+----------+--------------+-----------+\n",
            "| R8EWA1OFT84NX|    9970739|B00GSP5D94|     329991347| 2015-08-31|\n",
            "|R2JWY4YRQD4FOP|   23538442|B00YYDDZGU|     646108902| 2015-08-31|\n",
            "| RL5ESX231LZ0B|    8273344|B00BUBNZC8|     642922361| 2015-08-31|\n",
            "| RRMS9ZWJ2KD08|   24557753|B00AWLZFTS|     494272733| 2015-08-31|\n",
            "|R14I3ZG5E6S7YM|   46263340|B00KM60D3Q|     305813185| 2015-08-31|\n",
            "+--------------+-----------+----------+--------------+-----------+\n",
            "only showing top 5 rows\n",
            "\n"
          ]
        }
      ]
    },
    {
      "cell_type": "code",
      "metadata": {
        "id": "lzMmkdKmY--D",
        "colab": {
          "base_uri": "https://localhost:8080/"
        },
        "outputId": "8f74df3c-bea6-443d-86c8-6bd0cd79e3ee"
      },
      "source": [
        "# Create the vine_table. DataFrame\n",
        "vine_df = df.select([\"review_id\",\"star_rating\",\"helpful_votes\",\"total_votes\",\"vine\",\"verified_purchase\"])\n",
        "vine_df.show(5)"
      ],
      "execution_count": 10,
      "outputs": [
        {
          "output_type": "stream",
          "name": "stdout",
          "text": [
            "+--------------+-----------+-------------+-----------+----+-----------------+\n",
            "|     review_id|star_rating|helpful_votes|total_votes|vine|verified_purchase|\n",
            "+--------------+-----------+-------------+-----------+----+-----------------+\n",
            "| R8EWA1OFT84NX|          5|            0|          0|   N|                Y|\n",
            "|R2JWY4YRQD4FOP|          5|            0|          0|   N|                N|\n",
            "| RL5ESX231LZ0B|          5|            0|          0|   N|                Y|\n",
            "| RRMS9ZWJ2KD08|          5|            0|          0|   N|                Y|\n",
            "|R14I3ZG5E6S7YM|          5|            0|          0|   N|                Y|\n",
            "+--------------+-----------+-------------+-----------+----+-----------------+\n",
            "only showing top 5 rows\n",
            "\n"
          ]
        }
      ]
    },
    {
      "cell_type": "markdown",
      "metadata": {
        "id": "jITZhLkmY--J"
      },
      "source": [
        "### Connect to the AWS RDS instance and write each DataFrame to its table. "
      ]
    },
    {
      "cell_type": "code",
      "metadata": {
        "id": "7jiUvs1aY--L"
      },
      "source": [
        "# Configure settings for RDS\n",
        "mode = \"append\"\n",
        "jdbc_url=\"jdbc:postgresql://amazonvinedb.ciqlafqydtii.us-west-2.rds.amazonaws.com:5432/amazon_vine_db\"\n",
        "config = {\"user\":\"root\", \n",
        "          \"password\": \"<password>\", \n",
        "          \"driver\":\"org.postgresql.Driver\"}"
      ],
      "execution_count": 14,
      "outputs": []
    },
    {
      "cell_type": "code",
      "metadata": {
        "id": "T2zgZ-aKY--Q"
      },
      "source": [
        "# Write review_id_df to table in RDS\n",
        "review_id_df.write.jdbc(url=jdbc_url, table='review_id_table', mode=mode, properties=config)"
      ],
      "execution_count": 15,
      "outputs": []
    },
    {
      "cell_type": "code",
      "metadata": {
        "id": "1m3yzn-LY--U"
      },
      "source": [
        "# Write products_df to table in RDS\n",
        "products_df.write.jdbc(url=jdbc_url, table='products_table', mode=mode, properties=config)"
      ],
      "execution_count": 16,
      "outputs": []
    },
    {
      "cell_type": "code",
      "metadata": {
        "id": "KbXri15fY--Z"
      },
      "source": [
        "# Write customers_df to table in RDS\n",
        "customers_df.write.jdbc(url=jdbc_url, table='customers_table', mode=mode, properties=config)"
      ],
      "execution_count": 17,
      "outputs": []
    },
    {
      "cell_type": "code",
      "metadata": {
        "id": "XdQknSHLY--e"
      },
      "source": [
        "# Write vine_df to table in RDS\n",
        "vine_df.write.jdbc(url=jdbc_url, table='vine_table', mode=mode, properties=config)"
      ],
      "execution_count": 18,
      "outputs": []
    },
    {
      "cell_type": "code",
      "metadata": {
        "id": "Exuo6ebUsCqW"
      },
      "source": [
        ""
      ],
      "execution_count": null,
      "outputs": []
    }
  ]
}